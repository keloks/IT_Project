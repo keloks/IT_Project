{
 "cells": [
  {
   "cell_type": "code",
   "execution_count": 50,
   "id": "2d69b6bc",
   "metadata": {},
   "outputs": [],
   "source": [
    "from selenium import webdriver\n",
    "from selenium.webdriver.common.by import By\n",
    "import pandas as pd\n",
    "import re"
   ]
  },
  {
   "cell_type": "code",
   "execution_count": 51,
   "id": "ab26ac63",
   "metadata": {},
   "outputs": [],
   "source": [
    "#Open firefox and go to url\n",
    "driver = webdriver.Firefox()"
   ]
  },
  {
   "cell_type": "code",
   "execution_count": 52,
   "id": "a0c1bb31",
   "metadata": {},
   "outputs": [],
   "source": [
    "def find_number_class(driver):\n",
    "    #Get region where the number and class are stored\n",
    "    class_region = driver.find_element(By.CLASS_NAME, 'col-md-10')\n",
    "    \n",
    "    #get the number\n",
    "    punk_title = class_region.find_element(By.XPATH, './/h1')\n",
    "    #use regex to extract only the numbers\n",
    "    numbers_pattern = r'\\d+'\n",
    "    punk_number = re.search(numbers_pattern, punk_title.text)\n",
    "    \n",
    "    #get the class\n",
    "    punk_class = class_region.find_element(By.XPATH, './/h4//a')\n",
    "    \n",
    "    return punk_number.group(), punk_class.text"
   ]
  },
  {
   "cell_type": "code",
   "execution_count": 53,
   "id": "9eba438c",
   "metadata": {},
   "outputs": [],
   "source": [
    "def find_atts(section): #make a long string containing all attributes\n",
    "    atts = section.find_elements(By.CLASS_NAME, 'col-md-4')\n",
    "    att_string = ''\n",
    "    \n",
    "    for count, element in enumerate(atts):\n",
    "        \n",
    "        attribute = element.find_element(By.XPATH, './/a')\n",
    "        \n",
    "        if count == 0:\n",
    "            att_string = att_string + attribute.text\n",
    "        \n",
    "        else : \n",
    "            att_string = att_string + ',' + attribute.text\n",
    "    \n",
    "    return att_string"
   ]
  },
  {
   "cell_type": "code",
   "execution_count": 54,
   "id": "cf2d64d6",
   "metadata": {},
   "outputs": [],
   "source": [
    "def find_current_owner(section):\n",
    "    current_owner_region = section.find_element(By.CLASS_NAME, 'col-md-10')\n",
    "    \n",
    "    return current_owner_region.find_element(By.XPATH, './/div//a').text"
   ]
  },
  {
   "cell_type": "code",
   "execution_count": 55,
   "id": "907b8c6f",
   "metadata": {},
   "outputs": [],
   "source": [
    "def punkToFile(punk, fileName):\n",
    "    \n",
    "    file = open(fileName, 'a', encoding = 'utf-8')\n",
    "        \n",
    "    file.write(punk['number'] + ';' + punk['class'] + ';' + punk['attributes'] + ';'\\\n",
    "                   + punk['current_owner'] + ';' + '\\n')\n",
    "    #If we do not close the file, the file will not be saved\n",
    "    file.close()"
   ]
  },
  {
   "cell_type": "code",
   "execution_count": 62,
   "id": "379ca84f",
   "metadata": {},
   "outputs": [],
   "source": [
    "def find_write_transactions(section, punk_number):\n",
    "    #get the table\n",
    "    trans_table = section.find_element(By.CLASS_NAME, 'table')\n",
    "    #get the rows\n",
    "    trans_rows = trans_table.find_elements(By.XPATH, './/tbody//tr')\n",
    "    \n",
    "    file = open(str(punk_number) + '.txt', 'x', encoding = 'utf-8')\n",
    "    for row in trans_rows:\n",
    "        info = row.find_elements(By.XPATH, './/td')\n",
    "        info_string = ''\n",
    "        \n",
    "        for count, bit in enumerate(info):\n",
    "            \n",
    "            if count == 0:\n",
    "                info_string = info_string + bit.text\n",
    "            \n",
    "            else :\n",
    "                info_string = info_string + ';' + bit.text\n",
    "                \n",
    "                \n",
    "        file.write(info_string + '\\n')\n",
    "    file.close()\n",
    "    \n"
   ]
  },
  {
   "cell_type": "code",
   "execution_count": 63,
   "id": "5ef98999",
   "metadata": {},
   "outputs": [],
   "source": [
    "for number in range(0,6):\n",
    "    url = 'https://www.larvalabs.com/cryptopunks/details/'\n",
    "    driver.get(url + str(number))\n",
    "    punk = {}\n",
    "    punk['number'], punk['class'] = find_number_class(driver)\n",
    "    \n",
    "    #get different sections where info is actually stored\n",
    "    sections = driver.find_elements(By.CLASS_NAME, 'row')\n",
    "    \n",
    "    punk['attributes'] = find_atts(sections[4])\n",
    "    \n",
    "    punk['current_owner'] = find_current_owner(sections[6])\n",
    "    \n",
    "    punkToFile(punk, 'Punks.txt')\n",
    "    \n",
    "    find_write_transactions(sections[7], punk['number'])\n",
    "    #TODO change date format, get price only in dollars. This should be changed \n",
    "    #in the function\n",
    "    "
   ]
  }
 ],
 "metadata": {
  "anaconda-cloud": {},
  "kernelspec": {
   "display_name": "Python 3 (ipykernel)",
   "language": "python",
   "name": "python3"
  },
  "language_info": {
   "codemirror_mode": {
    "name": "ipython",
    "version": 3
   },
   "file_extension": ".py",
   "mimetype": "text/x-python",
   "name": "python",
   "nbconvert_exporter": "python",
   "pygments_lexer": "ipython3",
   "version": "3.7.11"
  }
 },
 "nbformat": 4,
 "nbformat_minor": 5
}
