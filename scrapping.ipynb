{
 "cells": [
  {
   "cell_type": "code",
   "execution_count": 34,
   "id": "2d69b6bc",
   "metadata": {},
   "outputs": [],
   "source": [
    "from selenium import webdriver\n",
    "from selenium.webdriver.common.by import By\n",
    "import pandas as pd\n",
    "import re"
   ]
  },
  {
   "cell_type": "code",
   "execution_count": 35,
   "id": "629e3b4f",
   "metadata": {},
   "outputs": [],
   "source": [
    "#Open firefox and go to url\n",
    "driver = webdriver.Firefox()"
   ]
  },
  {
   "cell_type": "code",
   "execution_count": 36,
   "id": "9258d905",
   "metadata": {},
   "outputs": [],
   "source": [
    "def find_number_class(driver):\n",
    "    #Get region where the number and class are stored\n",
    "    class_region = driver.find_element(By.CLASS_NAME, 'col-md-10')\n",
    "    \n",
    "    #get the number\n",
    "    punk_title = class_region.find_element(By.XPATH, './/h1')\n",
    "    #use regex to extract only the numbers\n",
    "    numbers_pattern = r'\\d+'\n",
    "    punk_number = re.search(numbers_pattern, punk_title.text)\n",
    "    \n",
    "    #get the class\n",
    "    punk_class = class_region.find_element(By.XPATH, './/h4//a')\n",
    "    \n",
    "    return punk_number.group(), punk_class.text"
   ]
  },
  {
   "cell_type": "code",
   "execution_count": 37,
   "id": "64ab97f2",
   "metadata": {},
   "outputs": [],
   "source": [
    "def find_atts(section): #make a long string containing all attributes\n",
    "    atts = section.find_elements(By.CLASS_NAME, 'col-md-4')\n",
    "    att_string = ''\n",
    "    \n",
    "    for count, element in enumerate(atts):\n",
    "        \n",
    "        attribute = element.find_element(By.XPATH, './/a')\n",
    "        \n",
    "        if count == 0:\n",
    "            att_string = att_string + attribute.text\n",
    "        \n",
    "        else : \n",
    "            att_string = att_string + ',' + attribute.text\n",
    "    \n",
    "    return att_string"
   ]
  },
  {
   "cell_type": "code",
   "execution_count": 38,
   "id": "901347c4",
   "metadata": {},
   "outputs": [],
   "source": [
    "def find_current_owner(section):\n",
    "    current_owner_region = section.find_element(By.CLASS_NAME, 'col-md-10')\n",
    "    \n",
    "    return current_owner_region.find_element(By.XPATH, './/div//a').text"
   ]
  },
  {
   "cell_type": "code",
   "execution_count": 39,
   "id": "156b63e1",
   "metadata": {},
   "outputs": [],
   "source": [
    "def punkToFile(punk, fileName):\n",
    "    \n",
    "    file = open(fileName, 'a', encoding = 'utf-8')\n",
    "        \n",
    "    file.write(punk['number'] + ';' + punk['class'] + ';' + punk['attributes'] + ';'\\\n",
    "                   + punk['current_owner'] + ';' + '\\n')\n",
    "    #If we do not close the file, the file will not be saved\n",
    "    file.close()"
   ]
  },
  {
   "cell_type": "code",
   "execution_count": 40,
   "id": "65c180f8",
   "metadata": {},
   "outputs": [],
   "source": [
    "def find_write_transactions(section, punk_number):\n",
    "    #get the table\n",
    "    trans_table = section.find_element(By.CLASS_NAME, 'table')\n",
    "    #get the rows\n",
    "    trans_rows = trans_table.find_elements(By.XPATH, './/tbody//tr')\n",
    "    \n",
    "    file = open(str(punk_number) + '.txt', 'x', encoding = 'utf-8')\n",
    "    for row in trans_rows:\n",
    "        info = row.find_elements(By.XPATH, './/td')\n",
    "        info_string = ''\n",
    "        \n",
    "        for count, bit in enumerate(info):\n",
    "            \n",
    "            if count == 0:\n",
    "                info_string = info_string + bit.text\n",
    "            \n",
    "            elif count == 3:\n",
    "                if bit.text != '':\n",
    "                    #get the price only in dollars, without commas and letters\n",
    "                    pattern = r'\\$\\d+,*.*\\d*K*M*B*'\n",
    "                    new_str = re.search(pattern, bit.text).group()\n",
    "\n",
    "                    number_str = new_str[1:-1].replace(',' , '')\n",
    "                    \n",
    "                    if number_str[-1] == 'K':\n",
    "                        number_str = str(float(number_str[:-1]) * 1000)\n",
    "                        \n",
    "                    elif number_str[-1] == 'M':\n",
    "                        number_str = str(float(number_str[:-1]) * 1000000)\n",
    "                        \n",
    "                    \n",
    "                    elif number_str[-1] == 'B':\n",
    "                        number_str = str(float(number_str[:-1]) * 1000000000)\n",
    "                    \n",
    "                    \n",
    "                    info_string = info_string + ';' + number_str\n",
    "                \n",
    "                else:\n",
    "                    info_string = info_string + ';'\n",
    "            \n",
    "            else :\n",
    "                info_string = info_string + ';' + bit.text\n",
    "                \n",
    "                \n",
    "        file.write(info_string + '\\n')\n",
    "    file.close()"
   ]
  },
  {
   "cell_type": "code",
   "execution_count": 41,
   "id": "b9475436",
   "metadata": {},
   "outputs": [],
   "source": [
    "for number in range(0,6):\n",
    "    url = 'https://www.larvalabs.com/cryptopunks/details/'\n",
    "    driver.get(url + str(number))\n",
    "    punk = {}\n",
    "    punk['number'], punk['class'] = find_number_class(driver)\n",
    "    \n",
    "    #get different sections where info is actually stored\n",
    "    sections = driver.find_elements(By.CLASS_NAME, 'row')\n",
    "    \n",
    "    punk['attributes'] = find_atts(sections[4])\n",
    "    \n",
    "    punk['current_owner'] = find_current_owner(sections[6])\n",
    "    \n",
    "    punkToFile(punk, 'Punks.txt')\n",
    "    \n",
    "    find_write_transactions(sections[7], punk['number'])\n",
    "    #TODO change date format, get price only in dollars. This should be changed \n",
    "    #in the function    "
   ]
  },
  {
   "cell_type": "code",
   "execution_count": 24,
   "id": "be7f6f89",
   "metadata": {},
   "outputs": [
    {
     "name": "stdout",
     "output_type": "stream",
     "text": [
      "45.0\n"
     ]
    }
   ],
   "source": [
    "mystr = '4.5M'\n",
    "if mystr[-1] == 'M':\n",
    "    mystr = float(mystr[:-1]) *10\n",
    "else:\n",
    "    mystr = mystr + 'mej'\n",
    "print(mystr)"
   ]
  },
  {
   "cell_type": "code",
   "execution_count": null,
   "id": "acf68537",
   "metadata": {},
   "outputs": [],
   "source": []
  }
 ],
 "metadata": {
  "anaconda-cloud": {},
  "kernelspec": {
   "display_name": "Python 3 (ipykernel)",
   "language": "python",
   "name": "python3"
  },
  "language_info": {
   "codemirror_mode": {
    "name": "ipython",
    "version": 3
   },
   "file_extension": ".py",
   "mimetype": "text/x-python",
   "name": "python",
   "nbconvert_exporter": "python",
   "pygments_lexer": "ipython3",
   "version": "3.7.11"
  }
 },
 "nbformat": 4,
 "nbformat_minor": 5
}
